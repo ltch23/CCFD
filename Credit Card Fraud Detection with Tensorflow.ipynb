{
 "cells": [
  {
   "cell_type": "markdown",
   "metadata": {
    "_cell_guid": "078bebea-eacd-009d-be23-ffd04a9a28d7",
    "_uuid": "ffeaffda736779f72ac138afd0e1979d25cf1188"
   },
   "source": [
    "#  Credit Card Fraud Detection"
   ]
  },
  {
   "cell_type": "markdown",
   "metadata": {
    "_cell_guid": "5fd61b05-3123-f9f2-07b4-65f494b1d197",
    "_uuid": "0f3dbdc4e3335bb27f57a0e702d865c85fc8156c"
   },
   "source": [
    "El objetivo de este análisis es predecir el fraude con tarjeta de crédito en los datos transaccionales. Utilizaré tensorflow para construir el modelo predictivo y t-SNE para visualizar el conjunto de datos en dos dimensiones al final de este análisis. \n",
    "Las secciones de este análisis incluyen:\n",
    "\n",
    "  - Explorando los datos\n",
    "  - Construyendo la red neuronal\n",
    "  \n",
    "Referencia: https://www.kaggle.com/currie32/predicting-fraud-with-tensorflow "
   ]
  },
  {
   "cell_type": "code",
   "execution_count": null,
   "metadata": {
    "_cell_guid": "fa5b0b2c-61af-c331-5189-ea7a7da91af4",
    "_uuid": "de05bed502fd65cad104788f58e932614734c55e"
   },
   "outputs": [],
   "source": [
    "import pandas as pd\n",
    "import numpy as np \n",
    "import tensorflow as tf\n",
    "from sklearn.cross_validation import train_test_split\n",
    "import matplotlib.pyplot as plt\n",
    "from sklearn.utils import shuffle\n",
    "from sklearn.metrics import confusion_matrix\n",
    "import seaborn as sns\n",
    "import matplotlib.gridspec as gridspec\n",
    "from sklearn.preprocessing import StandardScaler\n",
    "from sklearn.manifold import TSNE\n",
    "# from show_confusion_matrix import show_confusion_matrix "
   ]
  },
  {
   "cell_type": "code",
   "execution_count": null,
   "metadata": {
    "_cell_guid": "2fb18cab-d30f-a0b4-e2ac-965e8d54f46c",
    "_uuid": "de775ed1950992371acafb24ad6be9dec093f418",
    "collapsed": true
   },
   "outputs": [],
   "source": [
    "df = pd.read_csv(\"../input/creditcard.csv\")"
   ]
  },
  {
   "cell_type": "markdown",
   "metadata": {
    "_cell_guid": "506f5726-aa78-c07e-3897-50a8e30c28d0",
    "_uuid": "4fa75815090e33ea3da0fe57679e0e12cc4d6964"
   },
   "source": [
    "## Explorando los datos"
   ]
  },
  {
   "cell_type": "code",
   "execution_count": null,
   "metadata": {
    "_cell_guid": "6e2df96f-c649-9a33-14e8-5e72b1b1d026",
    "_uuid": "a58144b9b169461877e7ad08cb7f2b91429609f2",
    "collapsed": true
   },
   "outputs": [],
   "source": [
    "df.head()"
   ]
  },
  {
   "cell_type": "markdown",
   "metadata": {
    "_cell_guid": "fb2dbbb5-0d64-31e3-b0e3-1ac419b476a2",
    "_uuid": "07dc2e2bf35d5d328f9ad7250bc2191b709d5214"
   },
   "source": [
    "Los datos se transforman principalmente de su forma original, por razones de confidencialidad."
   ]
  },
  {
   "cell_type": "code",
   "execution_count": null,
   "metadata": {
    "_cell_guid": "e0d66b9b-aa80-d98d-e0e4-2b6436ad643f",
    "_uuid": "ee31ff389ac53722a12f3501577293fc1b7e01f8",
    "collapsed": true
   },
   "outputs": [],
   "source": [
    "df.describe()"
   ]
  },
  {
   "cell_type": "code",
   "execution_count": null,
   "metadata": {
    "_cell_guid": "296fd9fd-0461-a557-8b28-e9976457eb57",
    "_uuid": "ec437e004014f7454a318b0f6cb55191f5ed49ac",
    "collapsed": true
   },
   "outputs": [],
   "source": [
    "df.isnull().sum()"
   ]
  },
  {
   "cell_type": "markdown",
   "metadata": {
    "_cell_guid": "deca11b4-e0eb-6f0c-a7f1-af499df38a49",
    "_uuid": "060ff4a5786d261bc13f90709d701c25517b2e69"
   },
   "source": [
    "No hay valores perdidos, eso hace las cosas un poco más fáciles.\n",
    "\n",
    "Veamos cómo se compara el tiempo en transacciones normales y fraudulentas."
   ]
  },
  {
   "cell_type": "code",
   "execution_count": null,
   "metadata": {
    "_cell_guid": "3feb7a36-245c-d3c0-a85b-fb4a56b88602",
    "_uuid": "4c5e92ec854764a0b9383e9885d6480a85de423c",
    "collapsed": true
   },
   "outputs": [],
   "source": [
    "print (\"Fraud\")\n",
    "print (df.Time[df.Class == 1].describe())\n",
    "print ()\n",
    "print (\"Normal\")\n",
    "print (df.Time[df.Class == 0].describe())"
   ]
  },
  {
   "cell_type": "code",
   "execution_count": null,
   "metadata": {
    "_cell_guid": "5f0f1afc-2ea8-2064-44b2-db646dfd5540",
    "_uuid": "469a725297ebbd7ed823035cda3bbdb602c6fc55",
    "collapsed": true
   },
   "outputs": [],
   "source": [
    "f, (ax1, ax2) = plt.subplots(2, 1, sharex=True, figsize=(12,4))\n",
    "\n",
    "bins = 50\n",
    "\n",
    "ax1.hist(df.Time[df.Class == 1], bins = bins)\n",
    "ax1.set_title('Fraud')\n",
    "\n",
    "ax2.hist(df.Time[df.Class == 0], bins = bins)\n",
    "ax2.set_title('Normal')\n",
    "\n",
    "plt.xlabel('Time (in Seconds)')\n",
    "plt.ylabel('Number of Transactions')\n",
    "plt.show()"
   ]
  },
  {
   "cell_type": "markdown",
   "metadata": {
    "_cell_guid": "d60b2c81-ea2c-fdc8-4e00-3f6b12af5fba",
    "_uuid": "942efe321a303904cab9a45f2a1e6aaff2eba15d"
   },
   "source": [
    "La función 'Tiempo' se ve bastante similar en ambos tipos de transacciones. Podría argumentar que las transacciones fraudulentas se distribuyen de manera más uniforme, mientras que las transacciones normales tienen una distribución cíclica. Esto podría facilitar la detección de una transacción fraudulenta durante el horario \"fuera de temporada\".\n",
    "\n",
    "Ahora veamos si el monto de la transacción difiere entre los dos tipos."
   ]
  },
  {
   "cell_type": "code",
   "execution_count": null,
   "metadata": {
    "_cell_guid": "db2fcefb-daa9-8b14-7300-7d20db5a49a8",
    "_uuid": "26a580b1ec596568b0fcf6492306957eda356edd",
    "collapsed": true
   },
   "outputs": [],
   "source": [
    "print (\"Fraud\")\n",
    "print (df.Amount[df.Class == 1].describe())\n",
    "print ()\n",
    "print (\"Normal\")\n",
    "print (df.Amount[df.Class == 0].describe())"
   ]
  },
  {
   "cell_type": "code",
   "execution_count": null,
   "metadata": {
    "_cell_guid": "bf7873ea-fd39-6565-6713-8533fda33d29",
    "_uuid": "358e5995119995f11e1a27a69f79dab1a145e7f3",
    "collapsed": true
   },
   "outputs": [],
   "source": [
    "f, (ax1, ax2) = plt.subplots(2, 1, sharex=True, figsize=(12,4))\n",
    "\n",
    "bins = 30\n",
    "\n",
    "ax1.hist(df.Amount[df.Class == 1], bins = bins)\n",
    "ax1.set_title('Fraud')\n",
    "\n",
    "ax2.hist(df.Amount[df.Class == 0], bins = bins)\n",
    "ax2.set_title('Normal')\n",
    "\n",
    "plt.xlabel('Amount ($)')\n",
    "plt.ylabel('Number of Transactions')\n",
    "plt.yscale('log')\n",
    "plt.show()"
   ]
  },
  {
   "cell_type": "code",
   "execution_count": null,
   "metadata": {
    "_cell_guid": "da6ecbcc-b994-6e1b-43b2-42a4801366f0",
    "_uuid": "8194ecfdc5943c7dd578c94b36bb8a5d48677580",
    "collapsed": true
   },
   "outputs": [],
   "source": [
    "df['Amount_max_fraud'] = 1\n",
    "df.loc[df.Amount <= 2125.87, 'Amount_max_fraud'] = 0"
   ]
  },
  {
   "cell_type": "markdown",
   "metadata": {
    "_cell_guid": "c6129477-c175-ef7a-1d5b-a331a905c524",
    "_uuid": "9bd7db24e8724e978bdaf0c8cc1a5fb37c10f07d"
   },
   "source": [
    "La mayoría de las transacciones son montos pequeños, menos de $ 100. Las transacciones fraudulentas tienen un valor máximo muy inferior a las transacciones normales, $ 2,125.87 frente a $ 25,691.16.\n",
    "\n",
    "Comparemos el tiempo con la cantidad y veamos si podemos aprender algo nuevo."
   ]
  },
  {
   "cell_type": "code",
   "execution_count": null,
   "metadata": {
    "_cell_guid": "ee2f1aa4-84f7-3959-ceca-639211a4468d",
    "_uuid": "0d5bdfca78bd8c5a0c2be04906c469d01230a007",
    "collapsed": true
   },
   "outputs": [],
   "source": [
    "f, (ax1, ax2) = plt.subplots(2, 1, sharex=True, figsize=(12,6))\n",
    "\n",
    "ax1.scatter(df.Time[df.Class == 1], df.Amount[df.Class == 1])\n",
    "ax1.set_title('Fraud')\n",
    "\n",
    "ax2.scatter(df.Time[df.Class == 0], df.Amount[df.Class == 0])\n",
    "ax2.set_title('Normal')\n",
    "\n",
    "plt.xlabel('Time (in Seconds)')\n",
    "plt.ylabel('Amount')\n",
    "plt.show()"
   ]
  },
  {
   "cell_type": "markdown",
   "metadata": {
    "_cell_guid": "51380e8e-f55c-f7da-5abb-b8f74900b0df",
    "_uuid": "3584f3eba5a8781ac57a48fe5df69c8945ffd930"
   },
   "source": [
    "Nada demasiado útil aquí.\n",
    "\n",
    "A continuación, echemos un vistazo a las características anónimas."
   ]
  },
  {
   "cell_type": "code",
   "execution_count": null,
   "metadata": {
    "_cell_guid": "517128c8-9467-8225-791a-72fbe90fcbf6",
    "_uuid": "4b068a4a3cd41aa81260405d356b31f7c54be7e8",
    "collapsed": true
   },
   "outputs": [],
   "source": [
    "# Seleccione solo las características anónimas.\n",
    "v_features = df.ix[:,1:29].columns"
   ]
  },
  {
   "cell_type": "code",
   "execution_count": null,
   "metadata": {
    "_cell_guid": "254519ba-35e8-26bf-648c-462b51f3db08",
    "_uuid": "b8b532ef6eaa0a0f1baabb40c691d4ca6e99aaf5",
    "collapsed": true
   },
   "outputs": [],
   "source": [
    "plt.figure(figsize=(12,28*4))\n",
    "gs = gridspec.GridSpec(28, 1)\n",
    "for i, cn in enumerate(df[v_features]):\n",
    "    ax = plt.subplot(gs[i])\n",
    "    sns.distplot(df[cn][df.Class == 1], bins=50)\n",
    "    sns.distplot(df[cn][df.Class == 0], bins=50)\n",
    "    ax.set_xlabel('')\n",
    "    ax.set_title('histogram of feature: ' + str(cn))\n",
    "plt.show()"
   ]
  },
  {
   "cell_type": "code",
   "execution_count": null,
   "metadata": {
    "_cell_guid": "09f58878-6f5a-d903-e0be-cdabfb5ed662",
    "_uuid": "963188b8f4fcc6705ce0764bf6cea96b4bf49052",
    "collapsed": true
   },
   "outputs": [],
   "source": [
    "# Disminuya todas las características que tienen distribuciones muy similares entre los dos tipos de transacciones.\n",
    "df = df.drop(['V28','V27','V26','V25','V24','V23','V22','V20','V15','V13','V8'], axis =1)"
   ]
  },
  {
   "cell_type": "code",
   "execution_count": null,
   "metadata": {
    "_cell_guid": "5414a61d-38b4-a927-c31f-5afba5feef08",
    "_uuid": "058d4be5d834210fe4b77d98edfdc70b219161a1",
    "collapsed": true
   },
   "outputs": [],
   "source": [
    "# Basado en los trazados anteriores, estas características se crean para identificar valores donde las transacciones fraudulentas son más comunes.\n",
    "df['V1_'] = df.V1.map(lambda x: 1 if x < -3 else 0)\n",
    "df['V2_'] = df.V2.map(lambda x: 1 if x > 2.5 else 0)\n",
    "df['V3_'] = df.V3.map(lambda x: 1 if x < -4 else 0)\n",
    "df['V4_'] = df.V4.map(lambda x: 1 if x > 2.5 else 0)\n",
    "df['V5_'] = df.V5.map(lambda x: 1 if x < -4.5 else 0)\n",
    "df['V6_'] = df.V6.map(lambda x: 1 if x < -2.5 else 0)\n",
    "df['V7_'] = df.V7.map(lambda x: 1 if x < -3 else 0)\n",
    "df['V9_'] = df.V9.map(lambda x: 1 if x < -2 else 0)\n",
    "df['V10_'] = df.V10.map(lambda x: 1 if x < -2.5 else 0)\n",
    "df['V11_'] = df.V11.map(lambda x: 1 if x > 2 else 0)\n",
    "df['V12_'] = df.V12.map(lambda x: 1 if x < -2 else 0)\n",
    "df['V14_'] = df.V14.map(lambda x: 1 if x < -2.5 else 0)\n",
    "df['V16_'] = df.V16.map(lambda x: 1 if x < -2 else 0)\n",
    "df['V17_'] = df.V17.map(lambda x: 1 if x < -2 else 0)\n",
    "df['V18_'] = df.V18.map(lambda x: 1 if x < -2 else 0)\n",
    "df['V19_'] = df.V19.map(lambda x: 1 if x > 1.5 else 0)\n",
    "df['V21_'] = df.V21.map(lambda x: 1 if x > 0.6 else 0)"
   ]
  },
  {
   "cell_type": "code",
   "execution_count": null,
   "metadata": {
    "_cell_guid": "8901e194-87b8-c3c3-662e-b05a44a50a5e",
    "_uuid": "b44611803158895eaa0ae79df7f0f2ab8621001b",
    "collapsed": true
   },
   "outputs": [],
   "source": [
    "#Crea una nueva función para transacciones normales (no fraudulentas).\n",
    "df.loc[df.Class == 0, 'Normal'] = 1\n",
    "df.loc[df.Class == 1, 'Normal'] = 0"
   ]
  },
  {
   "cell_type": "code",
   "execution_count": null,
   "metadata": {
    "_cell_guid": "c284c3cf-7523-fbd6-9d13-026e633167c3",
    "_uuid": "143b3680b82ba9967584c1f3a758ed56c5a432b9",
    "collapsed": true
   },
   "outputs": [],
   "source": [
    "# Renombrar 'Class' a 'Fraud'.\n",
    "df = df.rename(columns={'Class': 'Fraud'})"
   ]
  },
  {
   "cell_type": "code",
   "execution_count": null,
   "metadata": {
    "_cell_guid": "afa20d7b-1a72-3bf5-a51c-066fc16dedc6",
    "_uuid": "cf9e6ebfa6de6e5216cd7b20a518fd81010186f3",
    "collapsed": true
   },
   "outputs": [],
   "source": [
    "# 492 transacciones fraudulentas, 284,315 transacciones normales.\n",
    "# 0.172% de las transacciones fueron fraude.\n",
    "print(df.Normal.value_counts())\n",
    "print()\n",
    "print(df.Fraud.value_counts())"
   ]
  },
  {
   "cell_type": "code",
   "execution_count": null,
   "metadata": {
    "_cell_guid": "0ddbbdd8-9ac9-d730-8063-d0f4acdaf85b",
    "_uuid": "600a28e0d969ff2487c5b7ce94c795ecf23fd376",
    "collapsed": true
   },
   "outputs": [],
   "source": [
    "pd.set_option(\"display.max_columns\",101)\n",
    "df.head()"
   ]
  },
  {
   "cell_type": "code",
   "execution_count": null,
   "metadata": {
    "_cell_guid": "23616744-f335-007e-a6b1-ee0bc0f3edcd",
    "_uuid": "7b783fa302429bfeed4cffd964c872a41bad5934",
    "collapsed": true
   },
   "outputs": [],
   "source": [
    "# Crear marcos de datos de solo Fraude y transacciones normales.\n",
    "Fraud = df[df.Fraud == 1]\n",
    "Normal = df[df.Normal == 1]"
   ]
  },
  {
   "cell_type": "code",
   "execution_count": null,
   "metadata": {
    "_cell_guid": "deb5dbbb-201d-e79f-13cc-dc9817d588e5",
    "_uuid": "2a6cddaf4919aed404927a41b205434dd582119f",
    "collapsed": true
   },
   "outputs": [],
   "source": [
    "# Establecer X_train igual al 80% de las transacciones fraudulentas.\n",
    "X_train = Fraud.sample(frac=0.8)\n",
    "count_Frauds = len(X_train)\n",
    "\n",
    "# Agregar el 80% de las transacciones normales a X_train.\n",
    "X_train = pd.concat([X_train, Normal.sample(frac = 0.8)], axis = 0)\n",
    "\n",
    "# X_test contiene toda la transacción que no está en X_train.\n",
    "X_test = df.loc[~df.index.isin(X_train.index)]"
   ]
  },
  {
   "cell_type": "code",
   "execution_count": null,
   "metadata": {
    "_cell_guid": "c0becaf6-dc5d-8cdf-8763-ae0c8a669e91",
    "_uuid": "3655cdc45cb37ee7f8c48b237cfe2744b98f15f2",
    "collapsed": true
   },
   "outputs": [],
   "source": [
    "# Deshaga los marcos de datos para que la capacitación se realice en un orden aleatorio.\n",
    "X_train = shuffle(X_train)\n",
    "X_test = shuffle(X_test)"
   ]
  },
  {
   "cell_type": "code",
   "execution_count": null,
   "metadata": {
    "_cell_guid": "80e7e303-ce05-5f3d-a0d8-ac2960ec0fbb",
    "_uuid": "c8df197f6c9658c1b7657ea93d55e0da01cc0c3c",
    "collapsed": true
   },
   "outputs": [],
   "source": [
    "#Añadir nuestras características de destino a y_train y y_test.\n",
    "y_train = X_train.Fraud\n",
    "y_train = pd.concat([y_train, X_train.Normal], axis=1)\n",
    "\n",
    "y_test = X_test.Fraud\n",
    "y_test = pd.concat([y_test, X_test.Normal], axis=1)"
   ]
  },
  {
   "cell_type": "code",
   "execution_count": null,
   "metadata": {
    "_cell_guid": "74f83c86-c091-0e72-7022-6a916167047f",
    "_uuid": "926f903627ee69aad802c19b8ae32785bda6135c",
    "collapsed": true
   },
   "outputs": [],
   "source": [
    "#Drop características de destino de X_train y X_test.\n",
    "X_train = X_train.drop(['Fraud','Normal'], axis = 1)\n",
    "X_test = X_test.drop(['Fraud','Normal'], axis = 1)"
   ]
  },
  {
   "cell_type": "code",
   "execution_count": null,
   "metadata": {
    "_cell_guid": "1f7660a6-6798-2bed-ccbf-a19f63b309c5",
    "_uuid": "e54f9002e0f83b35ec44124fed80ac05a4cd9d64",
    "collapsed": true
   },
   "outputs": [],
   "source": [
    "#Verifique que todos los cuadros de datos de entrenamiento / prueba tengan la longitud correcta\n",
    "print(len(X_train))\n",
    "print(len(y_train))\n",
    "print(len(X_test))\n",
    "print(len(y_test))"
   ]
  },
  {
   "cell_type": "code",
   "execution_count": null,
   "metadata": {},
   "outputs": [],
   "source": [
    "Debido al desequilibrio en los datos, la relación actuará como un sistema de ponderación igual para nuestro modelo.\n",
    "Al dividir el número de transacciones entre aquellas que son fraudulentas, la proporción será igual al valor que cuando se multiplique\n",
    "por el número de transacciones fraudulentas será igual al número de transacciones normales.\n",
    "En pocas palabras: # de fraude * ratio = # de normalidad\n"
   ]
  },
  {
   "cell_type": "code",
   "execution_count": null,
   "metadata": {
    "_cell_guid": "84f4c273-2113-3fe2-25d4-61c47a2628d1",
    "_uuid": "6e50429569955b94388bb445b8e03d90b7e11dd2",
    "collapsed": true
   },
   "outputs": [],
   "source": [
    "\n",
    "ratio = len(X_train)/count_Frauds \n",
    "\n",
    "y_train.Fraud *= ratio\n",
    "y_test.Fraud *= ratio"
   ]
  },
  {
   "cell_type": "code",
   "execution_count": null,
   "metadata": {
    "_cell_guid": "a1d825a1-7769-f7ee-0935-f6b8aef77664",
    "_uuid": "a92aec890a422fae6787644aa73aaad079747ea9",
    "collapsed": true
   },
   "outputs": [],
   "source": [
    "#Nombres de todas las funciones en X_train.\n",
    "features = X_train.columns.values\n",
    "\n",
    "#Transforme cada característica en características para que tenga una media de 0 y una desviación estándar de 1;\n",
    "# Esto ayuda a entrenar la red neuronal.\n",
    "for feature in features:\n",
    "    mean, std = df[feature].mean(), df[feature].std()\n",
    "    X_train.loc[:, feature] = (X_train[feature] - mean) / std\n",
    "    X_test.loc[:, feature] = (X_test[feature] - mean) / std"
   ]
  },
  {
   "cell_type": "markdown",
   "metadata": {
    "_cell_guid": "309dfd9b-b33a-60b3-c859-72eacc2bd323",
    "_uuid": "b4ab465bb3a4dfad89c6456b2278526c5419b918"
   },
   "source": [
    "## Train the Neural Net"
   ]
  },
  {
   "cell_type": "code",
   "execution_count": null,
   "metadata": {
    "_cell_guid": "b668be28-6280-3453-3d03-09daf5077040",
    "_uuid": "ec644321e75d15e0c09d1fe9195700ecb723221c",
    "collapsed": true
   },
   "outputs": [],
   "source": [
    "# Dividir los datos de prueba en conjuntos de validación y prueba\n",
    "split = int(len(y_test)/2)\n",
    "\n",
    "inputX = X_train.as_matrix()\n",
    "inputY = y_train.as_matrix()\n",
    "inputX_valid = X_test.as_matrix()[:split]\n",
    "inputY_valid = y_test.as_matrix()[:split]\n",
    "inputX_test = X_test.as_matrix()[split:]\n",
    "inputY_test = y_test.as_matrix()[split:]"
   ]
  },
  {
   "cell_type": "code",
   "execution_count": null,
   "metadata": {
    "_cell_guid": "fb75cc68-777c-4db9-6c92-80217d639d85",
    "_uuid": "9b70a2b8cb7cc09911891571dc149892d6f4630d",
    "collapsed": true
   },
   "outputs": [],
   "source": [
    "# Número de nodos de entrada.\n",
    "input_nodes = 37\n",
    "\n",
    "# Multiplier mantiene una proporción fija de nodos entre cada capa.\n",
    "mulitplier = 1.5 \n",
    "\n",
    "# Número de nodos en cada capa oculta\n",
    "hidden_nodes1 = 18\n",
    "hidden_nodes2 = round(hidden_nodes1 * mulitplier)\n",
    "hidden_nodes3 = round(hidden_nodes2 * mulitplier)\n",
    "\n",
    "# Porcentaje de nodos que mantener durante la deserción.\n",
    "pkeep = tf.placeholder(tf.float32)"
   ]
  },
  {
   "cell_type": "code",
   "execution_count": null,
   "metadata": {
    "_cell_guid": "c7737bfc-b52a-d76c-b70a-2cfacfab7f1d",
    "_uuid": "9ae6ee2c5d9ed52886b8ec86ac6a93926cb57d08",
    "collapsed": true
   },
   "outputs": [],
   "source": [
    "# entrada\n",
    "x = tf.placeholder(tf.float32, [None, input_nodes])\n",
    "\n",
    "# layer 1\n",
    "W1 = tf.Variable(tf.truncated_normal([input_nodes, hidden_nodes1], stddev = 0.15))\n",
    "b1 = tf.Variable(tf.zeros([hidden_nodes1]))\n",
    "y1 = tf.nn.sigmoid(tf.matmul(x, W1) + b1)\n",
    "\n",
    "# layer 2\n",
    "W2 = tf.Variable(tf.truncated_normal([hidden_nodes1, hidden_nodes2], stddev = 0.15))\n",
    "b2 = tf.Variable(tf.zeros([hidden_nodes2]))\n",
    "y2 = tf.nn.sigmoid(tf.matmul(y1, W2) + b2)\n",
    "\n",
    "# layer 3\n",
    "W3 = tf.Variable(tf.truncated_normal([hidden_nodes2, hidden_nodes3], stddev = 0.15)) \n",
    "b3 = tf.Variable(tf.zeros([hidden_nodes3]))\n",
    "y3 = tf.nn.sigmoid(tf.matmul(y2, W3) + b3)\n",
    "y3 = tf.nn.dropout(y3, pkeep)\n",
    "\n",
    "# layer 4\n",
    "W4 = tf.Variable(tf.truncated_normal([hidden_nodes3, 2], stddev = 0.15)) \n",
    "b4 = tf.Variable(tf.zeros([2]))\n",
    "y4 = tf.nn.softmax(tf.matmul(y3, W4) + b4)\n",
    "\n",
    "# salida\n",
    "y = y4\n",
    "y_ = tf.placeholder(tf.float32, [None, 2])"
   ]
  },
  {
   "cell_type": "code",
   "execution_count": null,
   "metadata": {
    "_cell_guid": "4d499bd8-9720-05ca-c82e-3d360d4c5bd6",
    "_uuid": "7179cd56bf8380209cced297d7789ddde546b918",
    "collapsed": true
   },
   "outputs": [],
   "source": [
    "# Parametros\n",
    "training_epochs = 5 # debe ser 2000, se agotó el tiempo de espera al cargar\n",
    "training_dropout = 0.9\n",
    "display_step = 1 # 10 \n",
    "n_samples = y_train.shape[0]\n",
    "batch_size = 2048\n",
    "learning_rate = 0.005"
   ]
  },
  {
   "cell_type": "code",
   "execution_count": null,
   "metadata": {
    "_cell_guid": "f6b8184c-ecfd-3be4-8555-c611ad8a420b",
    "_uuid": "2e51ed3e3a373b082319b62680c76517ff0eaca1",
    "collapsed": true
   },
   "outputs": [],
   "source": [
    "# Función de costo: entropía cruzada\n",
    "cost = -tf.reduce_sum(y_ * tf.log(y))\n",
    "\n",
    "# Optimizaremos nuestro modelo a través de AdamOptimizer\n",
    "optimizer = tf.train.AdamOptimizer(learning_rate).minimize(cost)\n",
    "\n",
    "# Corregir la predicción si el valor más probable (Fraude o Normal) de softmax es igual al valor objetivo.\n",
    "correct_prediction = tf.equal(tf.argmax(y,1), tf.argmax(y_,1))\n",
    "accuracy = tf.reduce_mean(tf.cast(correct_prediction, tf.float32))"
   ]
  },
  {
   "cell_type": "code",
   "execution_count": null,
   "metadata": {
    "_cell_guid": "22020320-c7a4-07fc-1dde-cca2447bb30a",
    "_uuid": "89f36cb2f161a574d2dea02eae79d9477f13d259",
    "collapsed": true
   },
   "outputs": [],
   "source": []
  },
  {
   "cell_type": "code",
   "execution_count": null,
   "metadata": {
    "_cell_guid": "d92ba058-cde6-efc6-0d2d-c59438429bf7",
    "_uuid": "70fbc62c77eb20734bf1d78a803f3d497756dd99",
    "collapsed": true
   },
   "outputs": [],
   "source": [
    "accuracy_summary = []# Registrar valores de precisión para la trama\n",
    "cost_summary = [] # Registrar los valores de costo para la trama\n",
    "valid_accuracy_summary = [] \n",
    "valid_cost_summary = [] \n",
    "stop_early = 0 # Para realizar un seguimiento del número de épocas antes de detenerse temprano\n",
    "\n",
    "# Guarda los mejores pesos para que puedan usarse para hacer las predicciones finales\n",
    "#checkpoint = \"location_on_your_computer / best_model.ckpt\"\n",
    "saver = tf.train.Saver(max_to_keep=1)\n",
    "\n",
    "# Inicializar variables y sesión de tensorflow\n",
    "with tf.Session() as sess:\n",
    "    sess.run(tf.global_variables_initializer())\n",
    "    \n",
    "    for epoch in range(training_epochs): \n",
    "        for batch in range(int(n_samples/batch_size)):\n",
    "            batch_x = inputX[batch*batch_size : (1+batch)*batch_size]\n",
    "            batch_y = inputY[batch*batch_size : (1+batch)*batch_size]\n",
    "\n",
    "            sess.run([optimizer], feed_dict={x: batch_x, \n",
    "                                             y_: batch_y,\n",
    "                                             pkeep: training_dropout})\n",
    "        \n",
    "        # Mostrar registros después de cada 10 épocas\n",
    "        if (epoch) % display_step == 0:\n",
    "            train_accuracy, newCost = sess.run([accuracy, cost], feed_dict={x: inputX, \n",
    "                                                                            y_: inputY,\n",
    "                                                                            pkeep: training_dropout})\n",
    "\n",
    "            valid_accuracy, valid_newCost = sess.run([accuracy, cost], feed_dict={x: inputX_valid, \n",
    "                                                                                  y_: inputY_valid,\n",
    "                                                                                  pkeep: 1})\n",
    "\n",
    "            print (\"Epoch:\", epoch,\n",
    "                   \"Acc =\", \"{:.5f}\".format(train_accuracy), \n",
    "                   \"Cost =\", \"{:.5f}\".format(newCost),\n",
    "                   \"Valid_Acc =\", \"{:.5f}\".format(valid_accuracy), \n",
    "                   \"Valid_Cost = \", \"{:.5f}\".format(valid_newCost))\n",
    "            \n",
    "            # Guarde los pesos si se cumplen estas condiciones.\n",
    "            #if epoch > 0 and valid_accuracy > max(valid_accuracy_summary) and valid_accuracy > 0.999:\n",
    "            #    saver.save(sess, checkpoint)\n",
    "            \n",
    "            # Registra los resultados del modelo\n",
    "            accuracy_summary.append(train_accuracy)\n",
    "            cost_summary.append(newCost)\n",
    "            valid_accuracy_summary.append(valid_accuracy)\n",
    "            valid_cost_summary.append(valid_newCost)\n",
    "            \n",
    "            # Si el modelo no mejora después de 15 registros, detenga el entrenamiento.\n",
    "            if valid_accuracy < max(valid_accuracy_summary) and epoch > 100:\n",
    "                stop_early += 1\n",
    "                if stop_early == 15:\n",
    "                    break\n",
    "            else:\n",
    "                stop_early = 0\n",
    "            \n",
    "    print()\n",
    "    print(\"Optimization Finished!\")\n",
    "    print()   \n",
    "    \n",
    "#with tf.Session() as sess:\n",
    "    # Carga los mejores pesos y muestra sus resultados\n",
    "    #saver.restore(sess, checkpoint)\n",
    "    #training_accuracy = sess.run(accuracy, feed_dict={x: inputX, y_: inputY, pkeep: training_dropout})\n",
    "    #validation_accuracy = sess.run(accuracy, feed_dict={x: inputX_valid, y_: inputY_valid, pkeep: 1})\n",
    "    \n",
    "    #print(\"Results using the best Valid_Acc:\")\n",
    "    #print()\n",
    "    #print(\"Training Accuracy =\", training_accuracy)\n",
    "    #print(\"Validation Accuracy =\", validation_accuracy)"
   ]
  },
  {
   "cell_type": "code",
   "execution_count": null,
   "metadata": {
    "_cell_guid": "e3cb895b-27d6-9765-60ae-46b4ff625394",
    "_uuid": "f398f30cd369653aedef685f67ca7aeb2cd7da39",
    "collapsed": true
   },
   "outputs": [],
   "source": [
    "# Trazar la precisión y los resúmenes de costos\n",
    "f, (ax1, ax2) = plt.subplots(2, 1, sharex=True, figsize=(10,4))\n",
    "\n",
    "ax1.plot(accuracy_summary) # blue\n",
    "ax1.plot(valid_accuracy_summary) # green\n",
    "ax1.set_title('Accuracy')\n",
    "\n",
    "ax2.plot(cost_summary)\n",
    "ax2.plot(valid_cost_summary)\n",
    "ax2.set_title('Cost')\n",
    "\n",
    "plt.xlabel('Epochs (x10)')\n",
    "plt.show()"
   ]
  },
  {
   "cell_type": "code",
   "execution_count": null,
   "metadata": {
    "_cell_guid": "ab30eabb-51fb-8e97-281b-545bda37fad6",
    "_uuid": "8a2889403f06e55f4fc6fa83412f766914fdf412",
    "collapsed": true
   },
   "outputs": [],
   "source": [
    "# Encontrar los valores predichos, luego usarlos para construir una matriz de confusión\n",
    "#predicted = tf.argmax(y, 1)\n",
    "#with tf.Session() as sess:  \n",
    "#    # Carga los mejores pesos\n",
    "#    saver.restore(sess, checkpoint)\n",
    "#    testing_predictions, testing_accuracy = sess.run([predicted, accuracy], \n",
    "#                                                     feed_dict={x: inputX_test, y_:inputY_test, pkeep: 1})\n",
    "#    \n",
    "#    print(\"F1-Score =\", f1_score(inputY_test[:,1], testing_predictions))\n",
    "#    print(\"Testing Accuracy =\", testing_accuracy)\n",
    "#    print()\n",
    "#    c = confusion_matrix(inputY_test[:,1], testing_predictions)\n",
    "#    show_confusion_matrix(c, ['Fraud', 'Normal'])"
   ]
  },
  {
   "cell_type": "markdown",
   "metadata": {
    "_cell_guid": "b180317a-a34b-6487-8edc-6d83f658205c",
    "_uuid": "da4aab646757691d518c576fc7c9fb3008830483"
   },
   "source": [
    "Aunque la red neuronal puede detectar la mayoría de las transacciones fraudulentas (82,93%), todavía hay algunas que se escaparon. Alrededor del 0,10% de las transacciones normales se clasificaron como fraudulentas, lo que lamentablemente puede sumar muy rápidamente dado el gran número de transacciones de tarjetas de crédito que ocurren cada minuto / hora / día. No obstante, estos modelos funcionan razonablemente bien y espero que si tuviéramos más datos, y si las características no se hubieran pretransformado, pudiéramos haber creado nuevas características y construido una red neuronal más útil."
   ]
  }
 ],
 "metadata": {
  "_change_revision": 0,
  "_is_fork": false,
  "kernelspec": {
   "display_name": "Python 3",
   "language": "python",
   "name": "python3"
  },
  "language_info": {
   "codemirror_mode": {
    "name": "ipython",
    "version": 3
   },
   "file_extension": ".py",
   "mimetype": "text/x-python",
   "name": "python",
   "nbconvert_exporter": "python",
   "pygments_lexer": "ipython3",
   "version": "3.6.4"
  }
 },
 "nbformat": 4,
 "nbformat_minor": 1
}
