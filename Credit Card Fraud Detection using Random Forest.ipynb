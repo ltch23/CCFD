{
 "cells": [
  {
   "cell_type": "markdown",
   "metadata": {},
   "source": [
    "#  Credit Card Fraud Detection"
   ]
  },
  {
   "cell_type": "markdown",
   "metadata": {
    "_cell_guid": "d9f1d173-44d1-e7b8-ade3-aca0d125c53a",
    "_uuid": "882bacaf694ef6d3f2e8bdb09aaf4c650d43bcff"
   },
   "source": [
    "Aquí en este módulo estoy trabajando en el modelo de clasificación: Ensemble Learning vía Random Forest Classifier\n",
    "\n",
    "Predecir transacciones de tarjetas de crédito anonimizadas como fraudulentas o genuinas.\n",
    "Para hacerlo, he hecho mi procesamiento de datos:\n",
    "\n",
    "- Handled Missing values: Using mean\n",
    "- Estandarizó los datos: utilizando la estandarización\n",
    "\n",
    "\n",
    "Exactitud Forestal Aleatoria: 99.9550574422\n",
    "Referencia: https://www.kaggle.com/mohitguptaomg/simple-notebook-of-99-95-accuracy?scriptVersionId=2745775"
   ]
  },
  {
   "cell_type": "code",
   "execution_count": 1,
   "metadata": {
    "_cell_guid": "801bc995-36ed-9e31-5a74-41a65845278e",
    "_uuid": "bf6e043cb08c80c254a1a5c10744235877b193d6"
   },
   "outputs": [],
   "source": [
    "# Loading libraries\n",
    "\n",
    "import pandas as pd\n",
    "import numpy as np\n",
    "import matplotlib.pyplot as plt"
   ]
  },
  {
   "cell_type": "code",
   "execution_count": 2,
   "metadata": {
    "_cell_guid": "0cb23dd6-eb4a-a0c2-844c-1ee9cf945282",
    "_uuid": "af37a615ca18cefcd15094963f30f4f115d72b17"
   },
   "outputs": [],
   "source": [
    "# Loading dataset\n",
    "\n",
    "dataset = pd.read_csv('creditcard.csv')\n"
   ]
  },
  {
   "cell_type": "code",
   "execution_count": 3,
   "metadata": {
    "_cell_guid": "eaa58b14-9680-70c7-1508-b5466ad5743a",
    "_uuid": "ab10d10c4de07029418a13db187cc01fb51370ba"
   },
   "outputs": [
    {
     "data": {
      "text/html": [
       "<div>\n",
       "<style scoped>\n",
       "    .dataframe tbody tr th:only-of-type {\n",
       "        vertical-align: middle;\n",
       "    }\n",
       "\n",
       "    .dataframe tbody tr th {\n",
       "        vertical-align: top;\n",
       "    }\n",
       "\n",
       "    .dataframe thead th {\n",
       "        text-align: right;\n",
       "    }\n",
       "</style>\n",
       "<table border=\"1\" class=\"dataframe\">\n",
       "  <thead>\n",
       "    <tr style=\"text-align: right;\">\n",
       "      <th></th>\n",
       "      <th>Time</th>\n",
       "      <th>V1</th>\n",
       "      <th>V2</th>\n",
       "      <th>V3</th>\n",
       "      <th>V4</th>\n",
       "      <th>V5</th>\n",
       "      <th>V6</th>\n",
       "      <th>V7</th>\n",
       "      <th>V8</th>\n",
       "      <th>V9</th>\n",
       "      <th>...</th>\n",
       "      <th>V21</th>\n",
       "      <th>V22</th>\n",
       "      <th>V23</th>\n",
       "      <th>V24</th>\n",
       "      <th>V25</th>\n",
       "      <th>V26</th>\n",
       "      <th>V27</th>\n",
       "      <th>V28</th>\n",
       "      <th>Amount</th>\n",
       "      <th>Class</th>\n",
       "    </tr>\n",
       "  </thead>\n",
       "  <tbody>\n",
       "    <tr>\n",
       "      <th>0</th>\n",
       "      <td>0.0</td>\n",
       "      <td>-1.359807</td>\n",
       "      <td>-0.072781</td>\n",
       "      <td>2.536347</td>\n",
       "      <td>1.378155</td>\n",
       "      <td>-0.338321</td>\n",
       "      <td>0.462388</td>\n",
       "      <td>0.239599</td>\n",
       "      <td>0.098698</td>\n",
       "      <td>0.363787</td>\n",
       "      <td>...</td>\n",
       "      <td>-0.018307</td>\n",
       "      <td>0.277838</td>\n",
       "      <td>-0.110474</td>\n",
       "      <td>0.066928</td>\n",
       "      <td>0.128539</td>\n",
       "      <td>-0.189115</td>\n",
       "      <td>0.133558</td>\n",
       "      <td>-0.021053</td>\n",
       "      <td>149.62</td>\n",
       "      <td>0</td>\n",
       "    </tr>\n",
       "    <tr>\n",
       "      <th>1</th>\n",
       "      <td>0.0</td>\n",
       "      <td>1.191857</td>\n",
       "      <td>0.266151</td>\n",
       "      <td>0.166480</td>\n",
       "      <td>0.448154</td>\n",
       "      <td>0.060018</td>\n",
       "      <td>-0.082361</td>\n",
       "      <td>-0.078803</td>\n",
       "      <td>0.085102</td>\n",
       "      <td>-0.255425</td>\n",
       "      <td>...</td>\n",
       "      <td>-0.225775</td>\n",
       "      <td>-0.638672</td>\n",
       "      <td>0.101288</td>\n",
       "      <td>-0.339846</td>\n",
       "      <td>0.167170</td>\n",
       "      <td>0.125895</td>\n",
       "      <td>-0.008983</td>\n",
       "      <td>0.014724</td>\n",
       "      <td>2.69</td>\n",
       "      <td>0</td>\n",
       "    </tr>\n",
       "    <tr>\n",
       "      <th>2</th>\n",
       "      <td>1.0</td>\n",
       "      <td>-1.358354</td>\n",
       "      <td>-1.340163</td>\n",
       "      <td>1.773209</td>\n",
       "      <td>0.379780</td>\n",
       "      <td>-0.503198</td>\n",
       "      <td>1.800499</td>\n",
       "      <td>0.791461</td>\n",
       "      <td>0.247676</td>\n",
       "      <td>-1.514654</td>\n",
       "      <td>...</td>\n",
       "      <td>0.247998</td>\n",
       "      <td>0.771679</td>\n",
       "      <td>0.909412</td>\n",
       "      <td>-0.689281</td>\n",
       "      <td>-0.327642</td>\n",
       "      <td>-0.139097</td>\n",
       "      <td>-0.055353</td>\n",
       "      <td>-0.059752</td>\n",
       "      <td>378.66</td>\n",
       "      <td>0</td>\n",
       "    </tr>\n",
       "    <tr>\n",
       "      <th>3</th>\n",
       "      <td>1.0</td>\n",
       "      <td>-0.966272</td>\n",
       "      <td>-0.185226</td>\n",
       "      <td>1.792993</td>\n",
       "      <td>-0.863291</td>\n",
       "      <td>-0.010309</td>\n",
       "      <td>1.247203</td>\n",
       "      <td>0.237609</td>\n",
       "      <td>0.377436</td>\n",
       "      <td>-1.387024</td>\n",
       "      <td>...</td>\n",
       "      <td>-0.108300</td>\n",
       "      <td>0.005274</td>\n",
       "      <td>-0.190321</td>\n",
       "      <td>-1.175575</td>\n",
       "      <td>0.647376</td>\n",
       "      <td>-0.221929</td>\n",
       "      <td>0.062723</td>\n",
       "      <td>0.061458</td>\n",
       "      <td>123.50</td>\n",
       "      <td>0</td>\n",
       "    </tr>\n",
       "    <tr>\n",
       "      <th>4</th>\n",
       "      <td>2.0</td>\n",
       "      <td>-1.158233</td>\n",
       "      <td>0.877737</td>\n",
       "      <td>1.548718</td>\n",
       "      <td>0.403034</td>\n",
       "      <td>-0.407193</td>\n",
       "      <td>0.095921</td>\n",
       "      <td>0.592941</td>\n",
       "      <td>-0.270533</td>\n",
       "      <td>0.817739</td>\n",
       "      <td>...</td>\n",
       "      <td>-0.009431</td>\n",
       "      <td>0.798278</td>\n",
       "      <td>-0.137458</td>\n",
       "      <td>0.141267</td>\n",
       "      <td>-0.206010</td>\n",
       "      <td>0.502292</td>\n",
       "      <td>0.219422</td>\n",
       "      <td>0.215153</td>\n",
       "      <td>69.99</td>\n",
       "      <td>0</td>\n",
       "    </tr>\n",
       "  </tbody>\n",
       "</table>\n",
       "<p>5 rows × 31 columns</p>\n",
       "</div>"
      ],
      "text/plain": [
       "   Time        V1        V2        V3        V4        V5        V6        V7  \\\n",
       "0   0.0 -1.359807 -0.072781  2.536347  1.378155 -0.338321  0.462388  0.239599   \n",
       "1   0.0  1.191857  0.266151  0.166480  0.448154  0.060018 -0.082361 -0.078803   \n",
       "2   1.0 -1.358354 -1.340163  1.773209  0.379780 -0.503198  1.800499  0.791461   \n",
       "3   1.0 -0.966272 -0.185226  1.792993 -0.863291 -0.010309  1.247203  0.237609   \n",
       "4   2.0 -1.158233  0.877737  1.548718  0.403034 -0.407193  0.095921  0.592941   \n",
       "\n",
       "         V8        V9  ...         V21       V22       V23       V24  \\\n",
       "0  0.098698  0.363787  ...   -0.018307  0.277838 -0.110474  0.066928   \n",
       "1  0.085102 -0.255425  ...   -0.225775 -0.638672  0.101288 -0.339846   \n",
       "2  0.247676 -1.514654  ...    0.247998  0.771679  0.909412 -0.689281   \n",
       "3  0.377436 -1.387024  ...   -0.108300  0.005274 -0.190321 -1.175575   \n",
       "4 -0.270533  0.817739  ...   -0.009431  0.798278 -0.137458  0.141267   \n",
       "\n",
       "        V25       V26       V27       V28  Amount  Class  \n",
       "0  0.128539 -0.189115  0.133558 -0.021053  149.62      0  \n",
       "1  0.167170  0.125895 -0.008983  0.014724    2.69      0  \n",
       "2 -0.327642 -0.139097 -0.055353 -0.059752  378.66      0  \n",
       "3  0.647376 -0.221929  0.062723  0.061458  123.50      0  \n",
       "4 -0.206010  0.502292  0.219422  0.215153   69.99      0  \n",
       "\n",
       "[5 rows x 31 columns]"
      ]
     },
     "execution_count": 3,
     "metadata": {},
     "output_type": "execute_result"
    }
   ],
   "source": [
    "dataset.head()"
   ]
  },
  {
   "cell_type": "code",
   "execution_count": 4,
   "metadata": {
    "_cell_guid": "24b0cfe5-e33f-78f8-0548-45b78165551c",
    "_uuid": "f291b0db9cbd68ed9a389632d9f74d02c1cec3a3"
   },
   "outputs": [],
   "source": [
    "# Parametros y resultados\n",
    "\n",
    "x = dataset.iloc[: , 1:30].values\n",
    "y = dataset.iloc[:, 30].values"
   ]
  },
  {
   "cell_type": "code",
   "execution_count": 5,
   "metadata": {
    "_cell_guid": "a977b7d4-d996-7718-e56a-1bb4661be498",
    "_uuid": "94d92a29304d20c62c24903718b0f922634ab7b1"
   },
   "outputs": [
    {
     "name": "stdout",
     "output_type": "stream",
     "text": [
      "Parameters : \n",
      "  [[-1.35980713e+00 -7.27811733e-02  2.53634674e+00 ...  1.33558377e-01\n",
      "  -2.10530535e-02  1.49620000e+02]\n",
      " [ 1.19185711e+00  2.66150712e-01  1.66480113e-01 ... -8.98309914e-03\n",
      "   1.47241692e-02  2.69000000e+00]\n",
      " [-1.35835406e+00 -1.34016307e+00  1.77320934e+00 ... -5.53527940e-02\n",
      "  -5.97518406e-02  3.78660000e+02]\n",
      " ...\n",
      " [ 1.91956501e+00 -3.01253846e-01 -3.24963981e+00 ...  4.45477214e-03\n",
      "  -2.65608286e-02  6.78800000e+01]\n",
      " [-2.40440050e-01  5.30482513e-01  7.02510230e-01 ...  1.08820735e-01\n",
      "   1.04532821e-01  1.00000000e+01]\n",
      " [-5.33412522e-01 -1.89733337e-01  7.03337367e-01 ... -2.41530880e-03\n",
      "   1.36489143e-02  2.17000000e+02]]\n"
     ]
    }
   ],
   "source": [
    "print(\"Parameters : \\n \", x)"
   ]
  },
  {
   "cell_type": "code",
   "execution_count": 6,
   "metadata": {
    "_cell_guid": "b201f2d3-0a23-2c95-59ce-c9e75b67940d",
    "_uuid": "b38120961376b192a53927d80541f676cfa5ff67"
   },
   "outputs": [
    {
     "name": "stdout",
     "output_type": "stream",
     "text": [
      "Results : \n",
      "  [0 0 0 ... 0 0 0]\n"
     ]
    }
   ],
   "source": [
    "print(\"Results : \\n \", y)"
   ]
  },
  {
   "cell_type": "code",
   "execution_count": 7,
   "metadata": {
    "_cell_guid": "74db69cb-56a0-1840-a5c2-1f4f606a4fec",
    "_uuid": "bdd16a19531352898df147935e26467734c2141d"
   },
   "outputs": [],
   "source": [
    "# Handling Missing Values\n",
    "\n",
    "from sklearn.preprocessing import Imputer\n",
    "imputer = Imputer(missing_values=\"NaN\", strategy=\"mean\", axis=0)\n",
    "imputer = imputer.fit(x[:, 1:30])\n",
    "x[:, 1:30] = imputer.fit_transform(x[:, 1:30])"
   ]
  },
  {
   "cell_type": "code",
   "execution_count": 9,
   "metadata": {
    "_cell_guid": "6813f4a3-67cb-8c53-6b34-05266848b4fd",
    "_uuid": "7bdb3189f1092167017b57ab96595b5f543e9367"
   },
   "outputs": [],
   "source": [
    "# Splitting the data-set\n",
    "\n",
    "from sklearn.model_selection import train_test_split\n",
    "xtrain, xtest, ytrain, ytest = train_test_split(x, y, test_size=0.25, random_state = 0)\n"
   ]
  },
  {
   "cell_type": "code",
   "execution_count": 10,
   "metadata": {
    "_cell_guid": "17e4b1fe-fd4f-7067-a860-5ab7dea4b66f",
    "_uuid": "5c017ef1034c966c49b5b2f0eb3bd66fe888dc40"
   },
   "outputs": [
    {
     "name": "stdout",
     "output_type": "stream",
     "text": [
      "xtrain.shape :  (213605, 29)\n",
      "xtest.shape  :  (71202, 29)\n",
      "ytrain.shape :  (213605,)\n",
      "xtest.shape  :  (71202, 29)\n",
      "\n",
      "xtrain  : \n",
      " [[ 2.04716304e+00  1.07986610e-01 -1.80651506e+00 ... -8.50246556e-02\n",
      "  -8.42920007e-02  7.70000000e-01]\n",
      " [ 1.28240449e+00  4.59864448e-01 -3.72285844e-01 ... -1.01678633e-02\n",
      "  -5.33248686e-03  1.79000000e+00]\n",
      " [-4.14862511e-01  1.20257796e-02  1.35638604e+00 ...  2.37627707e-01\n",
      "   2.04342556e-01  5.95000000e+00]\n",
      " ...\n",
      " [ 1.51260229e+00 -9.49435315e-01 -2.19061626e-01 ... -1.41537086e-03\n",
      "   3.66494418e-03  3.49000000e+01]\n",
      " [ 1.79886333e+00 -1.69979073e+00 -1.42182189e-01 ... -3.36155803e-02\n",
      "  -3.24705125e-02  1.71310000e+02]\n",
      " [-5.89399721e-01  7.47828393e-01  1.78478144e+00 ...  8.65917860e-02\n",
      "   1.18083774e-01  1.59900000e+01]]\n",
      "\n",
      "\n",
      "xtest : \n",
      " [[-3.23333572e-01  1.05745525e+00 -4.83411518e-02 ...  1.08494430e-01\n",
      "   1.61139167e-01  4.00000000e+01]\n",
      " [-3.49718405e-01  9.32618570e-01  1.42992038e-01 ...  7.68300272e-02\n",
      "   1.75561960e-01  1.98000000e+00]\n",
      " [-1.61471082e+00 -2.40656973e+00  3.26193929e-01 ...  2.86285101e-01\n",
      "   4.37321868e-01  9.60000000e+01]\n",
      " ...\n",
      " [ 1.40322087e+00 -4.39300461e-01  2.26984840e-01 ... -1.04050698e-02\n",
      "   6.48925492e-03  1.00000000e+01]\n",
      " [-3.23131065e+00  2.10313977e+00 -7.30148288e-01 ...  4.72312731e-01\n",
      "  -1.92528808e-01  9.99900000e+01]\n",
      " [ 1.25756139e+00 -7.24477151e-01 -8.31868281e-02 ... -1.01754487e-01\n",
      "   1.19557412e-02  9.00000000e+01]]\n",
      "\n",
      "ytrain  : \n",
      " [[ 2.04716304e+00  1.07986610e-01 -1.80651506e+00 ... -8.50246556e-02\n",
      "  -8.42920007e-02  7.70000000e-01]\n",
      " [ 1.28240449e+00  4.59864448e-01 -3.72285844e-01 ... -1.01678633e-02\n",
      "  -5.33248686e-03  1.79000000e+00]\n",
      " [-4.14862511e-01  1.20257796e-02  1.35638604e+00 ...  2.37627707e-01\n",
      "   2.04342556e-01  5.95000000e+00]\n",
      " ...\n",
      " [ 1.51260229e+00 -9.49435315e-01 -2.19061626e-01 ... -1.41537086e-03\n",
      "   3.66494418e-03  3.49000000e+01]\n",
      " [ 1.79886333e+00 -1.69979073e+00 -1.42182189e-01 ... -3.36155803e-02\n",
      "  -3.24705125e-02  1.71310000e+02]\n",
      " [-5.89399721e-01  7.47828393e-01  1.78478144e+00 ...  8.65917860e-02\n",
      "   1.18083774e-01  1.59900000e+01]]\n",
      "\n",
      "ytest   : \n",
      " [[ 2.04716304e+00  1.07986610e-01 -1.80651506e+00 ... -8.50246556e-02\n",
      "  -8.42920007e-02  7.70000000e-01]\n",
      " [ 1.28240449e+00  4.59864448e-01 -3.72285844e-01 ... -1.01678633e-02\n",
      "  -5.33248686e-03  1.79000000e+00]\n",
      " [-4.14862511e-01  1.20257796e-02  1.35638604e+00 ...  2.37627707e-01\n",
      "   2.04342556e-01  5.95000000e+00]\n",
      " ...\n",
      " [ 1.51260229e+00 -9.49435315e-01 -2.19061626e-01 ... -1.41537086e-03\n",
      "   3.66494418e-03  3.49000000e+01]\n",
      " [ 1.79886333e+00 -1.69979073e+00 -1.42182189e-01 ... -3.36155803e-02\n",
      "  -3.24705125e-02  1.71310000e+02]\n",
      " [-5.89399721e-01  7.47828393e-01  1.78478144e+00 ...  8.65917860e-02\n",
      "   1.18083774e-01  1.59900000e+01]]\n"
     ]
    }
   ],
   "source": [
    "print(\"xtrain.shape : \", xtrain.shape)\n",
    "print(\"xtest.shape  : \", xtest.shape)\n",
    "print(\"ytrain.shape : \", ytrain.shape)\n",
    "print(\"xtest.shape  : \", xtest.shape)\n",
    "\n",
    "print(\"\\nxtrain  : \\n\", xtrain)\n",
    "print(\"\\n\\nxtest : \\n\", xtest)\n",
    "print(\"\\nytrain  : \\n\", xtrain)\n",
    "print(\"\\nytest   : \\n\", xtrain)\n"
   ]
  },
  {
   "cell_type": "code",
   "execution_count": 11,
   "metadata": {
    "_cell_guid": "2e41112f-cf81-d552-0d50-1631dd7b9720",
    "_uuid": "9ca9e8899c0d0f2bf250512c2deba53c950a39b4"
   },
   "outputs": [],
   "source": [
    "# Feature Scaling\n",
    "\n",
    "from sklearn.preprocessing import StandardScaler\n",
    "sc_x = StandardScaler()\n",
    "xtrain = sc_x.fit_transform(xtrain)\n",
    "xtest = sc_x.transform(xtest)"
   ]
  },
  {
   "cell_type": "code",
   "execution_count": 12,
   "metadata": {
    "_cell_guid": "94bb0ddc-b5cf-a28a-4394-6830e6cd3b7e",
    "_uuid": "f82b0635922fbf7bbae6ebba83eadc79818575d6"
   },
   "outputs": [
    {
     "name": "stdout",
     "output_type": "stream",
     "text": [
      "Standardised Training Set : \n",
      "\n",
      " [[ 1.04272047  0.06657394 -1.19051456 ... -0.21031503 -0.2607924\n",
      "  -0.35356699]\n",
      " [ 0.65277143  0.27902921 -0.24476894 ... -0.02422764 -0.01672827\n",
      "  -0.34945825]\n",
      " [-0.21266203  0.00863513  0.89513523 ...  0.59177033  0.631378\n",
      "  -0.33270102]\n",
      " ...\n",
      " [ 0.77014889 -0.57187168 -0.1437313  ... -0.00246971  0.01108282\n",
      "  -0.21608519]\n",
      " [ 0.91611288 -1.02491801 -0.0930362  ... -0.0825166  -0.100612\n",
      "   0.33339889]\n",
      " [-0.30165824  0.45289483  1.17762359 ...  0.21630833  0.36475181\n",
      "  -0.29225808]]\n"
     ]
    }
   ],
   "source": [
    "print(\"Standardised Training Set : \\n\\n\", xtrain)"
   ]
  },
  {
   "cell_type": "markdown",
   "metadata": {
    "_cell_guid": "06ab2f16-48b0-1eae-534e-ddd70fddbf28",
    "_uuid": "95fbefe3419624e309f8c0bcea16dad5071c15cf",
    "collapsed": true
   },
   "source": [
    "# Ensemble Learning : Random Forest Classification Model¶\n"
   ]
  },
  {
   "cell_type": "code",
   "execution_count": 13,
   "metadata": {
    "_cell_guid": "58ba6720-1650-9eca-dc4e-9806c0caa2c4",
    "_uuid": "5d7c42962cf9c0cbaf0a09ed4aac631224aff8a2"
   },
   "outputs": [
    {
     "data": {
      "text/plain": [
       "RandomForestClassifier(bootstrap=True, class_weight=None, criterion='entropy',\n",
       "            max_depth=None, max_features='auto', max_leaf_nodes=None,\n",
       "            min_impurity_decrease=0.0, min_impurity_split=None,\n",
       "            min_samples_leaf=1, min_samples_split=2,\n",
       "            min_weight_fraction_leaf=0.0, n_estimators=100, n_jobs=1,\n",
       "            oob_score=False, random_state=0, verbose=0, warm_start=False)"
      ]
     },
     "execution_count": 13,
     "metadata": {},
     "output_type": "execute_result"
    }
   ],
   "source": [
    "# Fitting Random Forest Model to the dataset\n",
    "\n",
    "from sklearn.ensemble import RandomForestClassifier\n",
    "rf_classifier = RandomForestClassifier(n_estimators=100, criterion = 'entropy', random_state = 0 )\n",
    "rf_classifier.fit(xtrain, ytrain)"
   ]
  },
  {
   "cell_type": "code",
   "execution_count": 14,
   "metadata": {
    "_cell_guid": "3fa7ee41-14a5-2d86-0922-c28114ce9c5d",
    "_uuid": "7ba318aed8d3ee14eff2ddca67abe6aa57f86531"
   },
   "outputs": [],
   "source": [
    "# Predicting the Test set results\n",
    "\n",
    "y_pred_randomforest = rf_classifier.predict(xtest)"
   ]
  },
  {
   "cell_type": "code",
   "execution_count": 15,
   "metadata": {
    "_cell_guid": "ece7899a-11cb-b9cd-e446-4fd9800c1550",
    "_uuid": "42bda769d6e3f5deceb4c5ae3ff2ab0c0d5a7189"
   },
   "outputs": [
    {
     "name": "stdout",
     "output_type": "stream",
     "text": [
      "y_pred_randomforest : \n",
      " [0 0 0 ... 0 0 0]\n"
     ]
    }
   ],
   "source": [
    "print(\"y_pred_randomforest : \\n\", y_pred_randomforest)"
   ]
  },
  {
   "cell_type": "code",
   "execution_count": 16,
   "metadata": {
    "_cell_guid": "89d307a6-8cc5-fed9-142d-16c313953766",
    "_uuid": "75973a260af66cd8ecaa9f58683da2a7a79afd20"
   },
   "outputs": [],
   "source": [
    "# Making the Confusion Matrix to validate the Random Forest Model\n",
    "\n",
    "from sklearn.metrics import confusion_matrix\n",
    "cm_rainforest = confusion_matrix(ytest, y_pred_randomforest)"
   ]
  },
  {
   "cell_type": "code",
   "execution_count": 17,
   "metadata": {
    "_cell_guid": "0b33b073-c87f-e5c5-3d5d-324548065a91",
    "_uuid": "94f998154b8ba4cf0a934fe84487a99b88129c0a"
   },
   "outputs": [
    {
     "name": "stdout",
     "output_type": "stream",
     "text": [
      "Accuracy_rainforest    :  99.95505744220668\n",
      "Error_rate_rainforest  :  0.04494255779332041\n",
      "Specificity_rainforest :  94.0\n",
      "Sensitivity_rainforest :  99.9634328148294\n"
     ]
    }
   ],
   "source": [
    "# Validating the Prediction\n",
    "Accuracy_rainforest = ((cm_rainforest[0][0] + cm_rainforest[1][1]) / cm_rainforest.sum()) *100\n",
    "print(\"Accuracy_rainforest    : \", Accuracy_rainforest)\n",
    "\n",
    "Error_rate_rainforest = ((cm_rainforest[0][1] + cm_rainforest[1][0]) / cm_rainforest.sum()) *100\n",
    "print(\"Error_rate_rainforest  : \", Error_rate_rainforest)\n",
    "\n",
    "# True Fake Recognition Rate\n",
    "Specificity_rainforest = (cm_rainforest[1][1] / (cm_rainforest[1][1] + cm_rainforest[0][1])) *100\n",
    "print(\"Specificity_rainforest : \", Specificity_rainforest)\n",
    "\n",
    "# True Genuine Recognition Rate\n",
    "Sensitivity_rainforest = (cm_rainforest[0][0] / (cm_rainforest[0][0] + cm_rainforest[1][0])) *100\n",
    "print(\"Sensitivity_rainforest : \", Sensitivity_rainforest)"
   ]
  }
 ],
 "metadata": {
  "_change_revision": 0,
  "_is_fork": false,
  "kernelspec": {
   "display_name": "Python 3",
   "language": "python",
   "name": "python3"
  },
  "language_info": {
   "codemirror_mode": {
    "name": "ipython",
    "version": 3
   },
   "file_extension": ".py",
   "mimetype": "text/x-python",
   "name": "python",
   "nbconvert_exporter": "python",
   "pygments_lexer": "ipython3",
   "version": "3.6.4"
  }
 },
 "nbformat": 4,
 "nbformat_minor": 1
}
