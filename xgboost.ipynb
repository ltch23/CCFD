{
  "cells": [
    {
      "metadata": {
        "_cell_guid": "dcca8472-5614-2d61-5da6-5c8828d8e6c6",
        "_uuid": "eff6f294fb9647433f8405771121301093a4796c"
      },
      "cell_type": "markdown",
      "source": ""
    },
    {
      "metadata": {
        "_cell_guid": "4b51adba-b1f6-b2ea-63cf-94202518fbe0",
        "_uuid": "01956ac5cd27ecbf52ce1a32234d2ce388b77f41",
        "trusted": false
      },
      "cell_type": "code",
      "source": "import numpy as np\nimport pandas as pd\n\nfrom sklearn.model_selection import train_test_split\nfrom sklearn.metrics import mean_squared_error\nfrom sklearn.model_selection import GridSearchCV\n\nimport lightgbm as lgb\nfrom xgboost import XGBRegressor\n\nimport matplotlib.pyplot as plt\nimport seaborn as sns\n%matplotlib inline",
      "execution_count": null,
      "outputs": []
    },
    {
      "metadata": {
        "_cell_guid": "50f53f0f-60f2-d3ba-1f0c-163baa675b21",
        "_uuid": "61935aafc5cbc16b1565a9583449243ae430d50b",
        "trusted": false
      },
      "cell_type": "code",
      "source": "df = pd.read_csv(\"../input/creditcard.csv\")",
      "execution_count": null,
      "outputs": []
    },
    {
      "metadata": {
        "_cell_guid": "29b707a3-4bfd-c850-258b-917cfbb49611",
        "_uuid": "1539fde8c6c48b3aa73859bf0263bba705958bac",
        "trusted": false
      },
      "cell_type": "code",
      "source": "df.head()",
      "execution_count": null,
      "outputs": []
    },
    {
      "metadata": {
        "_cell_guid": "360559c9-3de1-1710-8e14-84fc8d6d93da",
        "_uuid": "01ed53e1f5c9db6807c5425c0f0fff54f481c82c"
      },
      "cell_type": "markdown",
      "source": "**Dividir data para entrenamiento y prueba**\n--------------------------------------"
    },
    {
      "metadata": {
        "_cell_guid": "1baddbb3-9401-7fa4-d045-4575464a329c",
        "_uuid": "af5c4e938d46d486dc23f75bbd239c3228a6952c",
        "trusted": false
      },
      "cell_type": "code",
      "source": "X_train, X_test, y_train, y_test = train_test_split(df.drop('Class', axis=1), df.Class, test_size=0.3, random_state=42)",
      "execution_count": null,
      "outputs": []
    },
    {
      "metadata": {
        "_cell_guid": "67fa20a6-7ebd-eb87-fdcd-ce2b81c2ea5b",
        "_uuid": "f39e76909f2a226e827d50b5ebc5d2b08e467f68",
        "trusted": false
      },
      "cell_type": "code",
      "source": "print('Train shape', X_train.shape)\nprint('Test shape', X_test.shape)",
      "execution_count": null,
      "outputs": []
    },
    {
      "metadata": {
        "_cell_guid": "e841b992-7123-69c0-7bc8-577cfefd4f32",
        "_uuid": "ed07a6b364884142ea482a09909ee5227a8a00b3"
      },
      "cell_type": "markdown",
      "source": "Veamos la importancia de las características xgboost y lightgbm\n-------------------------------------------------"
    },
    {
      "metadata": {
        "_cell_guid": "7e646b63-b3f2-ae69-55f4-e50976144e24",
        "_uuid": "c79afabe282519cba65fb44e4f7e23b600e48430",
        "trusted": false
      },
      "cell_type": "code",
      "source": "print('Start training...')\n# train\nxgb = XGBRegressor(max_depth=3, n_estimators=1000)\nxgb.fit(X_train, y_train, \n        eval_set=[(X_test, y_test)], \n        eval_metric='rmse', \n        early_stopping_rounds=20, \n        verbose=False)\n\ngbm = lgb.LGBMRegressor(objective='regression', num_leaves=31,\n                        learning_rate=0.05, n_estimators=20)\ngbm.fit(X_train, y_train, \n        eval_set=[(X_test, y_test)],\n        eval_metric='l1',\n        early_stopping_rounds=5)\n\n\nprint('Start predicting...')\n# predict\ny_pred_xgb = xgb.predict(X_test)\ny_pred_gbm = gbm.predict(X_test, num_iteration=gbm.best_iteration)\n\n# eval\nprint('The rmse of prediction xgboost is:', mean_squared_error(y_test, y_pred_xgb) ** 0.5)\nprint('The rmse of prediction lightgbm is:', mean_squared_error(y_test, y_pred_gbm) ** 0.5)\n\nprint('Calculate feature importances...')\n\nprint(\"xgboost: feature importance\")\nxgb_fi = xgb.booster().get_fscore()\nprint(xgb_fi)\n\nprint(\"lightgbm: feature importance\")\ngbm_fi = dict(zip(X_train.columns.tolist(),gbm.feature_importances_))\nprint(gbm_fi)",
      "execution_count": null,
      "outputs": []
    },
    {
      "metadata": {
        "_cell_guid": "31e01afc-402c-e0e4-d89e-e9f652eaaa05",
        "_uuid": "cea9816f8839e024ff4392b5e9a6b8a5afd17917",
        "trusted": false
      },
      "cell_type": "code",
      "source": "fig =  plt.figure(figsize = (15, 10))\nplt.subplot(2, 2, 1)\n\nplt.bar(np.arange(len(xgb_fi)), xgb_fi.values(), align='center')\nplt.xticks(np.arange(len(xgb_fi)), xgb_fi.keys(), fontweight='bold', rotation='vertical')\nplt.title('xgboost: feature importance', fontsize=15, fontweight='bold')\n\nplt.subplot(2, 2, 2)\nplt.bar(np.arange(len(gbm_fi)), gbm_fi.values(), align='center')\nplt.xticks(np.arange(len(gbm_fi)), gbm_fi.keys(), fontweight='bold', rotation='vertical')\nplt.title('lightgbm: feature importance', fontsize=15, fontweight='bold')",
      "execution_count": null,
      "outputs": []
    },
    {
      "metadata": {
        "_cell_guid": "23744939-ae3e-0795-f3ab-b93a6c5c399f",
        "_uuid": "f438f625b698b568153f3579cab08710bef95ebf",
        "trusted": false
      },
      "cell_type": "code",
      "source": "",
      "execution_count": null,
      "outputs": []
    }
  ],
  "metadata": {
    "_change_revision": 0,
    "_is_fork": false,
    "kernelspec": {
      "display_name": "Python 3",
      "language": "python",
      "name": "python3"
    },
    "language_info": {
      "name": "python",
      "version": "3.6.6",
      "mimetype": "text/x-python",
      "codemirror_mode": {
        "name": "ipython",
        "version": 3
      },
      "pygments_lexer": "ipython3",
      "nbconvert_exporter": "python",
      "file_extension": ".py"
    }
  },
  "nbformat": 4,
  "nbformat_minor": 1
}